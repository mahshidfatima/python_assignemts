{
 "cells": [
  {
   "cell_type": "code",
   "execution_count": 2,
   "id": "ddcea945",
   "metadata": {},
   "outputs": [
    {
     "name": "stdout",
     "output_type": "stream",
     "text": [
      "Twinkle twinkle little star\n",
      " \thow i wonder what you are\n",
      " \t\t up above the world so high\n",
      " \t\t like a diamond in the sky \n",
      "twinkle twinkle little star\n",
      " \t how i wonder what you are\n"
     ]
    }
   ],
   "source": [
    "print(\"Twinkle twinkle little star\\n \\thow i wonder what you are\\n \\t\\t up above the world so high\\n \\t\\t like a diamond in the sky \\ntwinkle twinkle little star\\n \\t how i wonder what you are\")"
   ]
  },
  {
   "cell_type": "code",
   "execution_count": 3,
   "id": "0efc0fa4",
   "metadata": {},
   "outputs": [
    {
     "name": "stdout",
     "output_type": "stream",
     "text": [
      "3.8.8\n"
     ]
    }
   ],
   "source": [
    "from platform import python_version\n",
    "print(python_version())"
   ]
  },
  {
   "cell_type": "code",
   "execution_count": 5,
   "id": "2e32447e",
   "metadata": {},
   "outputs": [
    {
     "name": "stdout",
     "output_type": "stream",
     "text": [
      "python version:\n",
      "3.8.8 (default, Apr 13 2021, 15:08:03) [MSC v.1916 64 bit (AMD64)]\n",
      "version info:\n",
      "sys.version_info(major=3, minor=8, micro=8, releaselevel='final', serial=0)\n"
     ]
    }
   ],
   "source": [
    "import sys\n",
    "print(\"python version:\")\n",
    "print(sys.version)\n",
    "print(\"version info:\")\n",
    "print(sys.version_info)"
   ]
  },
  {
   "cell_type": "code",
   "execution_count": 7,
   "id": "9eaa6a9e",
   "metadata": {},
   "outputs": [
    {
     "name": "stdout",
     "output_type": "stream",
     "text": [
      "2021-10-23   01:09:41\n",
      "today's date: 2021-10-23 01:09:41.637050\n"
     ]
    }
   ],
   "source": [
    "from datetime import datetime\n",
    "now1=datetime.now()\n",
    "today1=datetime.today()\n",
    "print(now1.strftime(\"%Y-%m-%d   %H:%M:%S\"))\n",
    "print(\"today's date:\" , today1)"
   ]
  },
  {
   "cell_type": "code",
   "execution_count": 8,
   "id": "d7b15a3f",
   "metadata": {},
   "outputs": [
    {
     "name": "stdout",
     "output_type": "stream",
     "text": [
      "Enter the radius:5\n",
      "area of circle:78.53981633974483\n"
     ]
    }
   ],
   "source": [
    "from math import pi\n",
    "radius=float(input(\"Enter the radius:\"))\n",
    "\n",
    "print(\"area of circle:\" + str(pi*radius**2))\n"
   ]
  },
  {
   "cell_type": "code",
   "execution_count": 9,
   "id": "eb251c6b",
   "metadata": {},
   "outputs": [
    {
     "name": "stdout",
     "output_type": "stream",
     "text": [
      "enter radius5\n",
      "78.5\n"
     ]
    }
   ],
   "source": [
    "rad=input(\"enter radius\")\n",
    "area=3.14* (float(rad))**2\n",
    "print(area)"
   ]
  },
  {
   "cell_type": "code",
   "execution_count": 18,
   "id": "6e46425a",
   "metadata": {},
   "outputs": [
    {
     "name": "stdout",
     "output_type": "stream",
     "text": [
      "enter first name:bak\n",
      "enter last name:chod\n",
      "dohc kab\n"
     ]
    }
   ],
   "source": [
    "var1=input(\"enter first name:\")\n",
    "var2=input(\"enter last name:\")\n",
    "rev_str1=''.join(reversed(var1))\n",
    "rev_str2=''.join(reversed(var2))\n",
    "\n",
    "\n",
    "print(rev_str2 + \" \" +rev_str1)"
   ]
  },
  {
   "cell_type": "code",
   "execution_count": 21,
   "id": "3d1d816f",
   "metadata": {},
   "outputs": [
    {
     "name": "stdout",
     "output_type": "stream",
     "text": [
      "enter first number:3\n",
      "enter second number3\n",
      "6.0\n"
     ]
    }
   ],
   "source": [
    "var1=input(\"enter first number:\")\n",
    "var2=input(\"enter second number\")\n",
    "summ=float(var1)+float(var2)\n",
    "print(summ)"
   ]
  },
  {
   "cell_type": "code",
   "execution_count": 27,
   "id": "5baa0d88",
   "metadata": {},
   "outputs": [
    {
     "name": "stdout",
     "output_type": "stream",
     "text": [
      "enter namemaha\n",
      "enter eng marks56\n",
      "enter eng marks78\n",
      "enter eng marks94\n",
      "enter eng marks56\n",
      "enter eng marks78\n",
      "Percentage:72.39999999999999%\n",
      "Grade: B\n"
     ]
    }
   ],
   "source": [
    "name=input(\"enter name:\")\n",
    "eng=float(input(\"enter eng marks:\"))\n",
    "maths=float(input(\"enter eng marks:\"))\n",
    "urdu=float(input(\"enter eng marks:\"))\n",
    "physics=float(input(\"enter eng marks:\"))\n",
    "chem=float(input(\"enter eng marks:\"))\n",
    "\n",
    "\n",
    "obt_marks=eng+maths+urdu+physics+chem\n",
    "total_marks=500\n",
    "per=(obt_marks/total_marks)*100\n",
    "print(\"Percentage:\" + str(per) + \"%\" )\n",
    "grade=\"\"\n",
    "\n",
    "if per==100 and per>=90:\n",
    "    grade=\"A+\"\n",
    "elif per<90 and per>=80:\n",
    "    grade=\"A\"\n",
    "elif  per<80 and per>=70:\n",
    "    grade=\"B\"\n",
    "elif per<70 and per>=60:\n",
    "    grade=\"C\"\n",
    "else:\n",
    "    grade=\"F\"\n",
    "\n",
    "print(\"Grade: \" + grade)\n"
   ]
  },
  {
   "cell_type": "code",
   "execution_count": 29,
   "id": "48883a65",
   "metadata": {},
   "outputs": [
    {
     "name": "stdout",
     "output_type": "stream",
     "text": [
      "enter a whole number:5\n",
      "odd\n"
     ]
    }
   ],
   "source": [
    "var=int(input(\"enter a whole number:\"))\n",
    "if var%2==0:\n",
    "    print(\"even\")\n",
    "else:\n",
    "    print(\"odd\")"
   ]
  },
  {
   "cell_type": "code",
   "execution_count": 31,
   "id": "21cc39ee",
   "metadata": {},
   "outputs": [
    {
     "name": "stdout",
     "output_type": "stream",
     "text": [
      "5\n"
     ]
    }
   ],
   "source": [
    "list=['1','8',2545,\"d,nsdjkzf\" ,\"a\"]\n",
    "str=len(list)\n",
    "print(str)"
   ]
  },
  {
   "cell_type": "code",
   "execution_count": 38,
   "id": "a7e59929",
   "metadata": {},
   "outputs": [
    {
     "ename": "ValueError",
     "evalue": "invalid literal for int() with base 10: 'kjmsd'",
     "output_type": "error",
     "traceback": [
      "\u001b[1;31m---------------------------------------------------------------------------\u001b[0m",
      "\u001b[1;31mValueError\u001b[0m                                Traceback (most recent call last)",
      "\u001b[1;32m<ipython-input-38-65d5a7e43d45>\u001b[0m in \u001b[0;36m<module>\u001b[1;34m\u001b[0m\n\u001b[0;32m      4\u001b[0m \u001b[1;32mfor\u001b[0m \u001b[0mi\u001b[0m \u001b[1;32min\u001b[0m \u001b[0mrange\u001b[0m\u001b[1;33m(\u001b[0m\u001b[0mvar\u001b[0m\u001b[1;33m)\u001b[0m\u001b[1;33m:\u001b[0m\u001b[1;33m\u001b[0m\u001b[1;33m\u001b[0m\u001b[0m\n\u001b[0;32m      5\u001b[0m     \u001b[1;32mif\u001b[0m \u001b[0mtype\u001b[0m\u001b[1;33m(\u001b[0m\u001b[0mlist\u001b[0m\u001b[1;33m[\u001b[0m\u001b[0mi\u001b[0m\u001b[1;33m]\u001b[0m\u001b[1;33m==\u001b[0m\u001b[0mint\u001b[0m\u001b[1;33m)\u001b[0m\u001b[1;33m:\u001b[0m\u001b[1;33m\u001b[0m\u001b[1;33m\u001b[0m\u001b[0m\n\u001b[1;32m----> 6\u001b[1;33m             \u001b[0msum\u001b[0m\u001b[1;33m=\u001b[0m\u001b[0msum\u001b[0m\u001b[1;33m+\u001b[0m\u001b[0mint\u001b[0m\u001b[1;33m(\u001b[0m\u001b[0mlist\u001b[0m\u001b[1;33m[\u001b[0m\u001b[0mi\u001b[0m\u001b[1;33m]\u001b[0m\u001b[1;33m)\u001b[0m\u001b[1;33m\u001b[0m\u001b[1;33m\u001b[0m\u001b[0m\n\u001b[0m\u001b[0;32m      7\u001b[0m     \u001b[1;32melse\u001b[0m\u001b[1;33m:\u001b[0m\u001b[1;33m\u001b[0m\u001b[1;33m\u001b[0m\u001b[0m\n\u001b[0;32m      8\u001b[0m         \u001b[0mprint\u001b[0m\u001b[1;33m(\u001b[0m\u001b[1;34m\"string\"\u001b[0m\u001b[1;33m)\u001b[0m\u001b[1;33m\u001b[0m\u001b[1;33m\u001b[0m\u001b[0m\n",
      "\u001b[1;31mValueError\u001b[0m: invalid literal for int() with base 10: 'kjmsd'"
     ]
    }
   ],
   "source": [
    "list=['5' ,\"kjmsd\" , 454 , 4.5 ,\"67\"]\n",
    "var=len(list)\n",
    "sum=0\n",
    "for i in range(var):\n",
    "    if type(list[i]==int):\n",
    "            sum=sum+int(list[i])\n",
    "    else:\n",
    "        print(\"string\")"
   ]
  },
  {
   "cell_type": "code",
   "execution_count": 42,
   "id": "3d940b8d",
   "metadata": {},
   "outputs": [
    {
     "name": "stdout",
     "output_type": "stream",
     "text": [
      "13\n"
     ]
    }
   ],
   "source": [
    "list=[13,56,2,3,9,]\n",
    "print(max(list))\n"
   ]
  },
  {
   "cell_type": "code",
   "execution_count": 8,
   "id": "f47b17a9",
   "metadata": {},
   "outputs": [
    {
     "name": "stdout",
     "output_type": "stream",
     "text": [
      "how many elements ?3\n",
      "enter element4\n",
      "enter element19\n",
      "enter element3\n",
      "maximum elemnt in list is 19\n"
     ]
    }
   ],
   "source": [
    "list=[]\n",
    "x=int(input(\"how many elements ?\"))\n",
    "for n in range(x):\n",
    "    y=int(input(\"enter element\"))\n",
    "    list.append(y)\n",
    "print(\"maximum elemnt in list is\", max(list))"
   ]
  },
  {
   "cell_type": "code",
   "execution_count": 13,
   "id": "b4299ab5",
   "metadata": {},
   "outputs": [
    {
     "name": "stdout",
     "output_type": "stream",
     "text": [
      "2\n",
      "3\n",
      "0\n"
     ]
    }
   ],
   "source": [
    "list=[11,2,3,5,8,14,21,55,89,50,0]\n",
    "n=len(list)\n",
    "for i in range(n):\n",
    "    if list[i]<5:\n",
    "        print(list[i])\n"
   ]
  },
  {
   "cell_type": "code",
   "execution_count": null,
   "id": "0119d242",
   "metadata": {},
   "outputs": [],
   "source": []
  },
  {
   "cell_type": "code",
   "execution_count": null,
   "id": "88d8844b",
   "metadata": {},
   "outputs": [],
   "source": []
  }
 ],
 "metadata": {
  "kernelspec": {
   "display_name": "Python 3",
   "language": "python",
   "name": "python3"
  },
  "language_info": {
   "codemirror_mode": {
    "name": "ipython",
    "version": 3
   },
   "file_extension": ".py",
   "mimetype": "text/x-python",
   "name": "python",
   "nbconvert_exporter": "python",
   "pygments_lexer": "ipython3",
   "version": "3.8.8"
  }
 },
 "nbformat": 4,
 "nbformat_minor": 5
}
