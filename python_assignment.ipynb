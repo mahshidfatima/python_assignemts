{
 "cells": [
  {
   "cell_type": "code",
   "execution_count": 10,
   "id": "b485335b",
   "metadata": {},
   "outputs": [
    {
     "name": "stdout",
     "output_type": "stream",
     "text": [
      "enter first number:4\n",
      "enter second number:2\n",
      "Choose the option:\n",
      " 1.Add\n",
      " 2.Subtract\n",
      " 3.Divide\n",
      " 4.Multiply\n",
      " 5.Power\n",
      "Operation : 5\n",
      "16\n",
      "True\n"
     ]
    }
   ],
   "source": [
    "def summ(a,b):\n",
    "    return(a+b)\n",
    "\n",
    "def subt(a,b):\n",
    "    return(a-b)\n",
    "\n",
    "def divide(a,b):\n",
    "    return(a/b)\n",
    "\n",
    "def multiply(a,b):\n",
    "    return(a*b)\n",
    "\n",
    "def power(a,b):\n",
    "    return(a**b)\n",
    "\n",
    "def calc():\n",
    "    num1=int(input(\"enter first number:\"))\n",
    "    num2=int(input(\"enter second number:\"))\n",
    "    print(\"Choose the option:\\n 1.Add\\n 2.Subtract\\n 3.Divide\\n 4.Multiply\\n 5.Power\")\n",
    "    choice=input(\"Operation : \")\n",
    "    if choice==\"1\":\n",
    "        print(summ(num1,num2))\n",
    "    elif choice==\"2\":\n",
    "        print(subt(num1,num2))\n",
    "    elif choice==\"3\":\n",
    "        print(divide(num1,num2))\n",
    "    elif choice==\"4\":\n",
    "        print(multiply(num1,num2))\n",
    "    elif choice==\"5\":\n",
    "        print(power(num1,num2))\n",
    "    return(True)\n",
    "print(calc())"
   ]
  },
  {
   "cell_type": "code",
   "execution_count": 29,
   "id": "6da606a6",
   "metadata": {},
   "outputs": [
    {
     "name": "stdout",
     "output_type": "stream",
     "text": [
      "Numeric value found at 2\n",
      "Numeric value found at 4\n"
     ]
    }
   ],
   "source": [
    "list1=['maha','5a6',\"45\",'gau7',\"7\"]\n",
    "for i in range(len(list1)):\n",
    "    if list1[i].isdigit()==True:\n",
    "        print(\"Numeric value found at \" + str(i))\n"
   ]
  },
  {
   "cell_type": "code",
   "execution_count": 35,
   "id": "1c83997c",
   "metadata": {},
   "outputs": [
    {
     "name": "stdout",
     "output_type": "stream",
     "text": [
      "{'name': 'mahshid', 'l_name': 'fatima', 'age': '19', 'dept': 'BCIT'}\n"
     ]
    }
   ],
   "source": [
    "dict={'name':'mahshid','l_name':'fatima'\n",
    "}\n",
    "dict['age']='19'\n",
    "dict.update(dept='BCIT')\n",
    "print(dict)"
   ]
  },
  {
   "cell_type": "code",
   "execution_count": 67,
   "id": "6009b467",
   "metadata": {},
   "outputs": [
    {
     "name": "stdout",
     "output_type": "stream",
     "text": [
      "True\n",
      "True\n",
      "45\n"
     ]
    }
   ],
   "source": [
    "dict={'val1':'abc' , 'val2' : '454' , 'val3':'cb3r43b' , 'val4':'45'}\n",
    "summ=0\n",
    "for key,value in dict.items():\n",
    "    if value.isdigit()==True:\n",
    "        summ=summ+int(value)\n",
    "print(summ)"
   ]
  },
  {
   "cell_type": "code",
   "execution_count": 68,
   "id": "2024e170",
   "metadata": {},
   "outputs": [
    {
     "name": "stdout",
     "output_type": "stream",
     "text": [
      "mahaduplucate value exits atmaha\n",
      "5a6duplucate value exits at5a6\n",
      "45duplucate value exits at45\n",
      "gau7duplucate value exits atgau7\n",
      "7duplucate value exits at7\n"
     ]
    }
   ],
   "source": [
    "list2=[45,23,1,67,45,26,39,3]\n",
    "j=0\n",
    "for i in range(len(list2)):\n",
    "    j=j+1\n",
    "    for j in range(len(list2)):\n",
    "        if list2[j]==list2[i] and i!=j:\n",
    "            \n",
    "            print(str(i) + \" duplicate value exists at \" + str(j))"
   ]
  },
  {
   "cell_type": "code",
   "execution_count": null,
   "id": "288059b7",
   "metadata": {},
   "outputs": [],
   "source": [
    "dict={'key1':'val1' , 'key2':'val2'}\n",
    "give_key=input(\"enter ther key you want to add: \")\n",
    "def check_key():\n",
    "    for key,value in dict.items():\n",
    "        if key==give_key:\n",
    "            return(\"key already present\")\n",
    "        else:\n",
    "            return(\"key not present\")\n",
    "print(check_key())"
   ]
  }
 ],
 "metadata": {
  "kernelspec": {
   "display_name": "Python 3",
   "language": "python",
   "name": "python3"
  },
  "language_info": {
   "codemirror_mode": {
    "name": "ipython",
    "version": 3
   },
   "file_extension": ".py",
   "mimetype": "text/x-python",
   "name": "python",
   "nbconvert_exporter": "python",
   "pygments_lexer": "ipython3",
   "version": "3.8.8"
  }
 },
 "nbformat": 4,
 "nbformat_minor": 5
}
